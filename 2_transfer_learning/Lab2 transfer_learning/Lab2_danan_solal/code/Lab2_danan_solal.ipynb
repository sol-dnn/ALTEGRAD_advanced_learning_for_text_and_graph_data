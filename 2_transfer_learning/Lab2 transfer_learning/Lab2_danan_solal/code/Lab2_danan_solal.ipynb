{
  "cells": [
    {
      "cell_type": "markdown",
      "metadata": {
        "id": "DlAfI8mCWAf3"
      },
      "source": [
        "<center><h2>ALTeGraD 2024<br>Lab Session 2: Transfer learning for NLP</h2> 15 / 10 / 2024<br> Dr. G. Shang, Y. Zhang<br><br>\n",
        "\n",
        "\n",
        "<b>Student name:</b> DANAN Solal\n",
        "\n",
        "</center>\n",
        "\n",
        "<br><br>\n",
        "In this lab we will:\n",
        "* Implement and pretrain a language model with transformer architecture.\n",
        "* Use the pretrained model (transfer learning) to perform a sentiment analysis task which consists of classifying some books reviews into positive and negative ones.\n",
        "* Compare the performance of the pretrained model to a model trained from scratch.\n",
        " <br>\n",
        "\n",
        "<b>The deadline for this lab is October 22, 2024 11:59 PM.</b> More details about the submission and the architecture for this lab can be found in the handout PDF."
      ]
    },
    {
      "cell_type": "code",
      "execution_count": 1,
      "metadata": {
        "id": "IqukuIe0Rb_c"
      },
      "outputs": [],
      "source": [
        "import math\n",
        "import matplotlib.pyplot as plt\n",
        "import torch\n",
        "import torch.nn as nn\n",
        "import torch.nn.functional as F\n",
        "from torch.nn.utils.rnn import pad_sequence\n",
        "\n",
        "device = torch.device(\"cuda\" if torch.cuda.is_available() else \"cpu\")"
      ]
    },
    {
      "cell_type": "markdown",
      "metadata": {
        "id": "5FF6fjkqgN39"
      },
      "source": [
        "### The Model"
      ]
    },
    {
      "cell_type": "code",
      "execution_count": 2,
      "metadata": {
        "id": "p0cj9WkSFQwl"
      },
      "outputs": [],
      "source": [
        "class TransformerModel(nn.Module):\n",
        "    def __init__(self, ntoken, nhead, nhid, nlayers, dropout=0.5):\n",
        "        super(TransformerModel, self).__init__()\n",
        "        '''\n",
        "        ntokens: the size of vocabulary\n",
        "        nhid: the hidden dimension of the model.\n",
        "        We assume that embedding_dim = nhid\n",
        "        nlayers: the number of nn.TransformerEncoderLayer in nn.TransformerEncoder\n",
        "        nhead: the number of heads in the multiheadattention models\n",
        "        dropout: the dropout value\n",
        "         '''\n",
        "        self.model_type = \"Transformer\"\n",
        "        self.encoder = nn.Embedding(num_embeddings=ntoken, embedding_dim=nhid) # fill me, nhid = the dim_embed\n",
        "        self.pos_encoder = PositionalEncoding(nhid=nhid) #fill me, the PositionalEncoding class is implemented in the next cell\n",
        "        encoder_layers = nn.TransformerEncoderLayer(d_model=nhid, dim_feedforward=nhid, nhead=nhead) #fill me we assume nhid = d_model = dim_feedforward\n",
        "        self.transformer_encoder = nn.TransformerEncoder(encoder_layer=encoder_layers, num_layers=nlayers) #fill me\n",
        "        self.nhid = nhid\n",
        "        self.init_weights()\n",
        "\n",
        "    def generate_square_subsequent_mask(self, sz):\n",
        "        mask = (torch.triu(torch.ones(sz, sz)) == 1).transpose(0, 1)\n",
        "        mask = (\n",
        "            mask.float()\n",
        "            .masked_fill(mask == 0, float(\"-inf\"))\n",
        "            .masked_fill(mask == 1, float(0.0))\n",
        "        )\n",
        "        return mask\n",
        "\n",
        "    def init_weights(self):\n",
        "        initrange = 0.1\n",
        "        self.encoder.weight.data.uniform_(-initrange, initrange)\n",
        "\n",
        "    def forward(self, src, src_mask):\n",
        "        src = self.encoder(src) * math.sqrt(self.nhid)\n",
        "        src = self.pos_encoder(src)   #fill me\n",
        "        output = self.transformer_encoder(src, mask=src_mask) #fill me\n",
        "        return output\n",
        "\n",
        "\n",
        "class ClassificationHead(nn.Module):\n",
        "    def __init__(self, nhid, nclasses):\n",
        "        super(ClassificationHead, self).__init__()\n",
        "        self.decoder = nn.Linear(in_features=nhid, out_features=nclasses)    #fill me)\n",
        "        self.init_weights()\n",
        "\n",
        "    def init_weights(self):\n",
        "        initrange = 0.1\n",
        "        self.decoder.bias.data.zero_()\n",
        "        self.decoder.weight.data.uniform_(-initrange, initrange)\n",
        "\n",
        "    def forward(self, src):\n",
        "        output = self.decoder(src)\n",
        "        return output\n",
        "\n",
        "class Model(nn.Module):\n",
        "    def __init__(self, ntoken, nhead, nhid, nlayers, nclasses, dropout=0.5):\n",
        "        super(Model, self).__init__()\n",
        "        self.base = TransformerModel(ntoken=ntoken, nhead=nhead, nhid=nhid, nlayers=nlayers, dropout=dropout) #fill me\n",
        "        self.classifier = ClassificationHead(nhid=nhid, nclasses=nclasses)  #fill me\n",
        "\n",
        "    def forward(self, src, src_mask):\n",
        "        # base model\n",
        "        x = self.base(src, src_mask) #fill me\n",
        "        # classifier model\n",
        "        output = self.classifier(x) #fill me\n",
        "        return output"
      ]
    },
    {
      "cell_type": "code",
      "execution_count": 3,
      "metadata": {
        "id": "kt2QQohaFZry"
      },
      "outputs": [],
      "source": [
        "class PositionalEncoding(nn.Module):\n",
        "    def __init__(self, nhid, dropout=0.1, max_len=5000):\n",
        "        super(PositionalEncoding, self).__init__()\n",
        "        self.dropout = nn.Dropout(p=dropout)\n",
        "\n",
        "        pe = torch.zeros(max_len, nhid)\n",
        "        position = torch.arange(0, max_len, dtype=torch.float).unsqueeze(1)\n",
        "        div_term = torch.exp(\n",
        "            torch.arange(0, nhid, 2).float() * (-math.log(10000.0) / nhid)\n",
        "        )\n",
        "        pe[:, 0::2] = torch.sin(position * div_term)\n",
        "        pe[:, 1::2] = torch.cos(position * div_term)\n",
        "        pe = pe.unsqueeze(0).transpose(0, 1)\n",
        "        self.register_buffer(\"pe\", pe)\n",
        "\n",
        "    def forward(self, x):\n",
        "        x = x + self.pe[: x.size(0), :]\n",
        "        return self.dropout(x)"
      ]
    },
    {
      "cell_type": "markdown",
      "metadata": {
        "id": "SfEYHJx2JW6l"
      },
      "source": [
        "Let's verify if our model works, by applying one inference step"
      ]
    },
    {
      "cell_type": "code",
      "execution_count": 4,
      "metadata": {
        "id": "rhb2gkUhJMR0"
      },
      "outputs": [
        {
          "name": "stdout",
          "output_type": "stream",
          "text": [
            "torch.Size([1, 6, 100])\n"
          ]
        },
        {
          "name": "stderr",
          "output_type": "stream",
          "text": [
            "/Library/Frameworks/Python.framework/Versions/3.11/lib/python3.11/site-packages/torch/nn/modules/transformer.py:307: UserWarning: enable_nested_tensor is True, but self.use_nested_tensor is False because encoder_layer.self_attn.batch_first was not True(use batch_first for better inference performance)\n",
            "  warnings.warn(f\"enable_nested_tensor is True, but self.use_nested_tensor is False because {why_not_sparsity_fast_path}\")\n"
          ]
        }
      ],
      "source": [
        "ntokens = 100 # the size of vocabulary\n",
        "nhid = 200  # hidden dimension\n",
        "nlayers = 4  # the number of nn.TransformerEncoderLayer in nn.TransformerEncoder\n",
        "nhead = 2  # the number of heads in the multiheadattention models\n",
        "dropout = 0  # the dropout value\n",
        "\n",
        "model = Model(ntokens, nhead, nhid, nlayers, ntokens, dropout).to(device)\n",
        "dummy_input = torch.tensor([[2, 6, 2, 5, 43, 21]]).to(device)\n",
        "src_mask = model.base.generate_square_subsequent_mask(1).to(device)\n",
        "out = model.forward(dummy_input, src_mask)\n",
        "\n",
        "print(out.shape) # is it the right shape?"
      ]
    },
    {
      "cell_type": "markdown",
      "metadata": {},
      "source": [
        "Model is instantiated with nclasses=ntokens\n",
        "Therefore, the output tensor has shape of 1 (batch size) x 6 (input size) x 100 (nclasses)."
      ]
    },
    {
      "cell_type": "markdown",
      "metadata": {
        "id": "i74NN897Fcit"
      },
      "source": [
        "## Vocabulary and Tokenization"
      ]
    },
    {
      "cell_type": "code",
      "execution_count": 5,
      "metadata": {
        "id": "5qjd26ghWuff"
      },
      "outputs": [
        {
          "name": "stdout",
          "output_type": "stream",
          "text": [
            "--2024-10-22 17:34:45--  https://raw.githubusercontent.com/moussaKam/transfer_learning_transformers/main/dict.txt\n",
            "Résolution de raw.githubusercontent.com (raw.githubusercontent.com)… 185.199.110.133, 185.199.109.133, 185.199.111.133, ...\n",
            "Connexion à raw.githubusercontent.com (raw.githubusercontent.com)|185.199.110.133|:443… connecté.\n",
            "requête HTTP transmise, en attente de la réponse… 200 OK\n",
            "Taille : 577587 (564K) [text/plain]\n",
            "Sauvegarde en : « dict.txt.1 »\n",
            "\n",
            "dict.txt.1          100%[===================>] 564,05K  --.-KB/s    ds 0,05s   \n",
            "\n",
            "2024-10-22 17:34:45 (10,9 MB/s) — « dict.txt.1 » sauvegardé [577587/577587]\n",
            "\n",
            "▁d 1\n",
            "es 1\n",
            "▁l 1\n",
            "en 1\n",
            "on 1\n"
          ]
        }
      ],
      "source": [
        "!wget https://raw.githubusercontent.com/moussaKam/transfer_learning_transformers/main/dict.txt\n",
        "!head -5 dict.txt"
      ]
    },
    {
      "cell_type": "code",
      "execution_count": 6,
      "metadata": {
        "id": "vFdH_-JeFbGA"
      },
      "outputs": [
        {
          "name": "stdout",
          "output_type": "stream",
          "text": [
            "▁trop\n"
          ]
        }
      ],
      "source": [
        "path_vocab = \"dict.txt\"\n",
        "token2ind = {\"<sos>\": 0, \"<pad>\": 1, \"<eos>\": 2, \"<oov>\": 3} # the 4 first indices are reserved to special tokens\n",
        "with open(path_vocab, \"r\") as f:\n",
        "    for idx, line in enumerate(f):\n",
        "        word = line.split()[0].strip()\n",
        "        token2ind[word] =  idx + 4 # +4 not to overwrite thespecial tokens #fill me\n",
        "\n",
        "ind2token = {v: k for k, v in token2ind.items()} #fill me\n",
        "\n",
        "print(ind2token[1111])"
      ]
    },
    {
      "cell_type": "markdown",
      "metadata": {
        "id": "XOExGODajN8p"
      },
      "source": [
        "### Data Loader\n"
      ]
    },
    {
      "cell_type": "code",
      "execution_count": 7,
      "metadata": {
        "id": "Y0jN-Ar9i5Q1"
      },
      "outputs": [],
      "source": [
        "import numpy\n",
        "import torch\n",
        "from torch.nn.utils.rnn import pad_sequence\n",
        "from torch.utils.data import DataLoader, Dataset\n",
        "\n",
        "\n",
        "class Dataset(Dataset):\n",
        "    def __init__(\n",
        "        self,\n",
        "        path_documents,\n",
        "        path_labels=None,\n",
        "        token2ind={},\n",
        "        max_len=512,\n",
        "        task=\"language_modeling\",\n",
        "    ):\n",
        "        self.task = task\n",
        "        self.max_len = max_len\n",
        "        self.token2ind = token2ind\n",
        "        self.documents = []\n",
        "        self.labels = []\n",
        "        with open(path_documents, \"r\") as f1:\n",
        "            for line in f1:\n",
        "                self.documents.append(line.strip())\n",
        "        if task == \"classification\":\n",
        "            with open(path_labels, \"r\") as f1: \n",
        "                for line in f1:\n",
        "                    self.labels.append(int(line.strip()))\n",
        "            assert len(self.labels) == len(self.documents)\n",
        "\n",
        "    def __len__(self):\n",
        "        return len(self.documents)\n",
        "\n",
        "    def __getitem__(self, index):\n",
        "        sequence = self.documents[index].split()\n",
        "        if len(sequence) > self.max_len - 1:\n",
        "            sequence = sequence[: self.max_len - 1]\n",
        "        source_sequence = [token2ind['<sos>']] + [token2ind[token] if token in token2ind else token2ind['<oov>'] for token in sequence] #fill me (constract the input sequence using token2ind, sequence and special tokens)\n",
        "        if self.task == \"language_modeling\":\n",
        "            target = source_sequence[1:]\n",
        "            target.append(self.token2ind[\"<eos>\"])\n",
        "        elif self.task == \"classification\":\n",
        "            target = [self.labels[index]]\n",
        "        sample = {\n",
        "            \"source_sequence\": torch.tensor(source_sequence),\n",
        "            \"target\": torch.tensor(target),\n",
        "        }\n",
        "        return sample\n",
        "\n",
        "\n",
        "def MyCollator(batch):\n",
        "    source_sequences = pad_sequence(\n",
        "        #we use padding to match the length of the sequences in the same batch\n",
        "        [sample[\"source_sequence\"] for sample in batch], padding_value=token2ind[\"<pad>\"]\n",
        "    )\n",
        "    target = pad_sequence(\n",
        "        [sample[\"target\"] for sample in batch], padding_value=token2ind[\"<pad>\"]\n",
        "    )\n",
        "    return source_sequences, target.reshape(-1)\n",
        "\n",
        "\n",
        "def get_loader(\n",
        "    path_documents,\n",
        "    path_labels=None,\n",
        "    token2ind={},\n",
        "    max_len=512,\n",
        "    batch_size=32,\n",
        "    task=\"language_modeling\",\n",
        "):\n",
        "    dataset = Dataset(\n",
        "        path_documents,\n",
        "        path_labels=path_labels,\n",
        "        token2ind=token2ind,\n",
        "        max_len=512,\n",
        "        task=task,\n",
        "    )\n",
        "    data_loader = DataLoader(\n",
        "        dataset=dataset,\n",
        "        batch_size=batch_size,\n",
        "        shuffle=True,\n",
        "        collate_fn=MyCollator,\n",
        "        pin_memory=True,\n",
        "        drop_last=True,\n",
        "    )\n",
        "    return data_loader"
      ]
    },
    {
      "cell_type": "markdown",
      "metadata": {
        "id": "uTns4lHrjUTa"
      },
      "source": [
        "## The Training"
      ]
    },
    {
      "cell_type": "code",
      "execution_count": 8,
      "metadata": {
        "id": "4_jwosiLjRsS"
      },
      "outputs": [],
      "source": [
        "def train(\n",
        "    path_data_train,\n",
        "    path_labels_train=None,\n",
        "    path_data_valid=None,\n",
        "    save_interval=-1,\n",
        "    log_interval=5,\n",
        "    task=\"language_modeling\",\n",
        "    batch_size=32,\n",
        "):\n",
        "    model.train()\n",
        "    total_loss = 0.0\n",
        "    ntokens = len(token2ind)\n",
        "    data_loader = get_loader(\n",
        "        path_data_train,\n",
        "        path_labels_train,\n",
        "        token2ind,\n",
        "        task=task,\n",
        "        batch_size=batch_size,\n",
        "    )\n",
        "\n",
        "    losses = []\n",
        "    for idx, data in enumerate(data_loader): #step 1\n",
        "        optimizer.zero_grad()\n",
        "        src_mask = model.base.generate_square_subsequent_mask(data[0].size(0)).to(\n",
        "            device\n",
        "        )\n",
        "        input = data[0].to(device)\n",
        "        output = model(input, src_mask) #step 2\n",
        "        if task == 'classification':\n",
        "            #last vector only\n",
        "            output = output[-1] #fill me\n",
        "        output = output.view(-1, output.shape[-1])\n",
        "        target =  data[1] #fill me\n",
        "        target = target.to(device)\n",
        "        loss = criterion(output, target)#fill me, Cross entropy check next cells\n",
        "        loss.backward() #fill me step 3\n",
        "\n",
        "        torch.nn.utils.clip_grad_norm_(model.parameters(), 0.5) # prevent exploding gradient\n",
        "        optimizer.step()#fill me step 4\n",
        "\n",
        "        total_loss += loss.item()\n",
        "        if idx % log_interval == 0 and idx > 0:\n",
        "            cur_loss = total_loss / log_interval\n",
        "            print(\n",
        "                \"| epoch {:3d} | {:5d}/{:5d} steps | \"\n",
        "                \"loss {:5.5f} | ppl {:8.3f}\".format(\n",
        "                    epoch, idx, len(data_loader), cur_loss, math.exp(cur_loss),\n",
        "                )\n",
        "            )\n",
        "            losses.append(cur_loss)\n",
        "            total_loss = 0\n",
        "    return losses"
      ]
    },
    {
      "cell_type": "code",
      "execution_count": 9,
      "metadata": {
        "id": "pgf6BDB9jUr6"
      },
      "outputs": [],
      "source": [
        "ntokens = len(ind2token) #fill me # the size of vocabulary\n",
        "nhid = 200  # the dimension of the feedforward network model in nn.TransformerEncoder\n",
        "nlayers = 4  # the number of nn.TransformerEncoderLayer in nn.TransformerEncoder\n",
        "nhead = 2  # the number of heads in the multiheadattention models\n",
        "dropout = 0  # the dropout value\n",
        "\n",
        "nclasses = 2 # for classification task only\n",
        "\n",
        "model = Model(ntokens, nhead, nhid, nlayers, ntokens, dropout).to(device)"
      ]
    },
    {
      "cell_type": "code",
      "execution_count": 10,
      "metadata": {
        "id": "u-OLy4KIkDwf"
      },
      "outputs": [],
      "source": [
        "# optimization paramerters\n",
        "\n",
        "criterion = nn.CrossEntropyLoss(ignore_index=token2ind['<pad>'])\n",
        "lr = 0.0003  # learning rate\n",
        "optimizer = torch.optim.Adam(model.parameters(), lr=lr)"
      ]
    },
    {
      "cell_type": "code",
      "execution_count": 11,
      "metadata": {
        "id": "Bwh3n9xZQy4e"
      },
      "outputs": [
        {
          "name": "stdout",
          "output_type": "stream",
          "text": [
            "--2024-10-22 17:34:51--  https://raw.githubusercontent.com/moussaKam/transfer_learning_transformers/main/pretraining_subset.txt\n",
            "Résolution de raw.githubusercontent.com (raw.githubusercontent.com)… 185.199.110.133, 185.199.109.133, 185.199.111.133, ...\n",
            "Connexion à raw.githubusercontent.com (raw.githubusercontent.com)|185.199.110.133|:443… connecté.\n",
            "requête HTTP transmise, en attente de la réponse… 200 OK\n",
            "Taille : 10146460 (9,7M) [text/plain]\n",
            "Sauvegarde en : « pretraining_subset.txt.1 »\n",
            "\n",
            "pretraining_subset. 100%[===================>]   9,68M  12,9MB/s    ds 0,7s    \n",
            "\n",
            "2024-10-22 17:34:52 (12,9 MB/s) — « pretraining_subset.txt.1 » sauvegardé [10146460/10146460]\n",
            "\n"
          ]
        }
      ],
      "source": [
        "!wget https://raw.githubusercontent.com/moussaKam/transfer_learning_transformers/main/pretraining_subset.txt\n",
        "path_data_train = \"pretraining_subset.txt\""
      ]
    },
    {
      "cell_type": "code",
      "execution_count": 12,
      "metadata": {
        "id": "0m11g4ScjZaR"
      },
      "outputs": [
        {
          "name": "stdout",
          "output_type": "stream",
          "text": [
            "| epoch   1 |   500/ 3125 steps | loss 7.40238 | ppl 1639.875\n",
            "| epoch   1 |  1000/ 3125 steps | loss 6.60674 | ppl  740.068\n",
            "| epoch   1 |  1500/ 3125 steps | loss 6.31724 | ppl  554.040\n",
            "| epoch   1 |  2000/ 3125 steps | loss 6.13182 | ppl  460.275\n",
            "| epoch   1 |  2500/ 3125 steps | loss 6.02134 | ppl  412.132\n",
            "| epoch   1 |  3000/ 3125 steps | loss 5.90905 | ppl  368.355\n",
            "| epoch   2 |   500/ 3125 steps | loss 5.65315 | ppl  285.188\n",
            "| epoch   2 |  1000/ 3125 steps | loss 5.62077 | ppl  276.102\n",
            "| epoch   2 |  1500/ 3125 steps | loss 5.59440 | ppl  268.916\n",
            "| epoch   2 |  2000/ 3125 steps | loss 5.54185 | ppl  255.150\n",
            "| epoch   2 |  2500/ 3125 steps | loss 5.52331 | ppl  250.462\n",
            "| epoch   2 |  3000/ 3125 steps | loss 5.47238 | ppl  238.025\n"
          ]
        }
      ],
      "source": [
        "#pretraining on a tiny subset\n",
        "log_interval = 500\n",
        "epochs = 2\n",
        "for epoch in range(1, epochs + 1): #5\n",
        "    train(\n",
        "        path_data_train,\n",
        "        save_interval=-1,\n",
        "        task='language_modeling', # fill me\n",
        "        batch_size=16,\n",
        "        log_interval=log_interval,\n",
        "    )"
      ]
    },
    {
      "cell_type": "markdown",
      "metadata": {
        "id": "MeOM1dOvkO4e"
      },
      "source": [
        "## Text Generation\n"
      ]
    },
    {
      "cell_type": "code",
      "execution_count": 13,
      "metadata": {
        "id": "-BcBC6FSkMH3"
      },
      "outputs": [
        {
          "name": "stdout",
          "output_type": "stream",
          "text": [
            "--2024-10-22 18:06:32--  https://raw.githubusercontent.com/moussaKam/transfer_learning_transformers/main/pretrained_model_4layers.pt\n",
            "Résolution de raw.githubusercontent.com (raw.githubusercontent.com)… 185.199.109.133, 185.199.111.133, 185.199.108.133, ...\n",
            "Connexion à raw.githubusercontent.com (raw.githubusercontent.com)|185.199.109.133|:443… connecté.\n",
            "requête HTTP transmise, en attente de la réponse… 200 OK\n",
            "Taille : 88093955 (84M) [application/octet-stream]\n",
            "Sauvegarde en : « pretrained_model_4layers.pt.3 »\n",
            "\n",
            "pretrained_model_4l 100%[===================>]  84,01M  12,8MB/s    ds 6,5s    \n",
            "\n",
            "2024-10-22 18:06:38 (12,9 MB/s) — « pretrained_model_4layers.pt.3 » sauvegardé [88093955/88093955]\n",
            "\n"
          ]
        },
        {
          "name": "stderr",
          "output_type": "stream",
          "text": [
            "/Library/Frameworks/Python.framework/Versions/3.11/lib/python3.11/site-packages/torch/nn/modules/transformer.py:307: UserWarning: enable_nested_tensor is True, but self.use_nested_tensor is False because encoder_layer.self_attn.batch_first was not True(use batch_first for better inference performance)\n",
            "  warnings.warn(f\"enable_nested_tensor is True, but self.use_nested_tensor is False because {why_not_sparsity_fast_path}\")\n",
            "/var/folders/cg/ltgc1bw91_q800mfcy5vfvkw0000gn/T/ipykernel_81290/1360543851.py:8: FutureWarning: You are using `torch.load` with `weights_only=False` (the current default value), which uses the default pickle module implicitly. It is possible to construct malicious pickle data which will execute arbitrary code during unpickling (See https://github.com/pytorch/pytorch/blob/main/SECURITY.md#untrusted-models for more details). In a future release, the default value for `weights_only` will be flipped to `True`. This limits the functions that could be executed during unpickling. Arbitrary objects will no longer be allowed to be loaded via this mode unless they are explicitly allowlisted by the user via `torch.serialization.add_safe_globals`. We recommend you start setting `weights_only=True` for any use case where you don't have full control of the loaded file. Please open an issue on GitHub for any issues related to this experimental feature.\n",
            "  checkpoint = torch.load('pretrained_model_4layers.pt', map_location=torch.device('cpu'))\n"
          ]
        },
        {
          "data": {
            "text/plain": [
              "<All keys matched successfully>"
            ]
          },
          "execution_count": 13,
          "metadata": {},
          "output_type": "execute_result"
        }
      ],
      "source": [
        "!wget https://raw.githubusercontent.com/moussaKam/transfer_learning_transformers/main/pretrained_model_4layers.pt\n",
        "\n",
        "\n",
        "\n",
        "model = Model(ntokens, nhead, nhid, nlayers, ntokens).to(device)\n",
        "\n",
        "#load the checkpoint\n",
        "checkpoint = torch.load('pretrained_model_4layers.pt', map_location=torch.device('cpu'))\n",
        "#load state dict\n",
        "model.load_state_dict(checkpoint['model_state_dict'])"
      ]
    },
    {
      "cell_type": "code",
      "execution_count": 14,
      "metadata": {
        "id": "tBRRVsWqlIoQ"
      },
      "outputs": [
        {
          "name": "stdout",
          "output_type": "stream",
          "text": [
            "--2024-10-22 18:06:39--  https://raw.githubusercontent.com/moussaKam/transfer_learning_transformers/main/sentencepiece.french.model\n",
            "Résolution de raw.githubusercontent.com (raw.githubusercontent.com)… 185.199.109.133, 185.199.111.133, 185.199.108.133, ...\n",
            "Connexion à raw.githubusercontent.com (raw.githubusercontent.com)|185.199.109.133|:443… connecté.\n",
            "requête HTTP transmise, en attente de la réponse… 200 OK\n",
            "Taille : 1115362 (1,1M) [application/octet-stream]\n",
            "Sauvegarde en : « sentencepiece.french.model.2 »\n",
            "\n",
            "sentencepiece.frenc 100%[===================>]   1,06M  --.-KB/s    ds 0,06s   \n",
            "\n",
            "2024-10-22 18:06:39 (17,4 MB/s) — « sentencepiece.french.model.2 » sauvegardé [1115362/1115362]\n",
            "\n",
            "['▁Bonjour', '▁les', '▁amis', '!']\n",
            "Bonjour les amis!\n"
          ]
        }
      ],
      "source": [
        "# !pip install sentencepiece   # uncomment this if you are using google colab\n",
        "!wget https://raw.githubusercontent.com/moussaKam/transfer_learning_transformers/main/sentencepiece.french.model\n",
        "\n",
        "import sentencepiece as spm\n",
        "\n",
        "s = spm.SentencePieceProcessor(model_file='sentencepiece.french.model') #load sentencepiece model\n",
        "\n",
        "#examples\n",
        "encoded = s.encode_as_pieces(\"Bonjour les amis!\")\n",
        "decoded = s.decode_pieces(encoded)\n",
        "print(encoded)\n",
        "print(decoded)"
      ]
    },
    {
      "cell_type": "code",
      "execution_count": 15,
      "metadata": {
        "id": "TtLlV05pkQI3"
      },
      "outputs": [],
      "source": [
        "def infer_next_token(sent):\n",
        "    model.eval()\n",
        "    sent_pieces = s.encode_as_pieces(sent)\n",
        "    source = [token2ind['<sos>']] + [token2ind[el] if el in token2ind else token2ind['<oov>'] for el in sent_pieces]  # list of tokens\n",
        "    source = torch.tensor(source).to(device)\n",
        "    source = source.reshape(-1, 1)\n",
        "    src_mask = model.base.generate_square_subsequent_mask(source.size(0)).to(device)\n",
        "    out = model(source, src_mask)\n",
        "    next_token_ind = torch.argmax(out[-1, :]).item() #fill me\n",
        "    return next_token_ind, out\n",
        "\n",
        "\n",
        "def infer_next_tokens(sent, max_len=50):\n",
        "    # to be implemented\n",
        "    # Encode the input sequence into subword tokens\n",
        "    token_pieces = s.encode_as_pieces(sent)\n",
        "    \n",
        "    # Convert the pieces into their corresponding token indices\n",
        "    token_ids = [token2ind['<sos>']] + [token2ind[piece] if piece in token2ind else token2ind['<oov>'] for piece in token_pieces]\n",
        "\n",
        "    # Iteratively predict the next token up to max_length or until <eos> is generated\n",
        "    for _ in range(max_len):\n",
        "        # Decode the current token indices into a sentence\n",
        "        current_sequence = s.decode([ind2token[tok] for tok in token_ids if tok in ind2token])\n",
        "        \n",
        "        # Infer the next token index using the current sequence\n",
        "        next_token_index, _ = infer_next_token(current_sequence)\n",
        "        token_ids.append(next_token_index)\n",
        "\n",
        "        # Stop if the end of sequence token is generated\n",
        "        if next_token_index == token2ind['<eos>']:\n",
        "            break\n",
        "\n",
        "    # Decode the final sequence of tokens into a string and return it\n",
        "    return s.decode([ind2token[tok] for tok in token_ids if tok in ind2token])"
      ]
    },
    {
      "cell_type": "code",
      "execution_count": 16,
      "metadata": {
        "id": "f83Nn5nSly4v"
      },
      "outputs": [
        {
          "data": {
            "text/plain": [
              "'<sos> Bonjour les gens qui ont été très accueillants et sympathiques.<eos>'"
            ]
          },
          "execution_count": 16,
          "metadata": {},
          "output_type": "execute_result"
        }
      ],
      "source": [
        "sent = \"Bonjour les\"\n",
        "infer_next_tokens(sent)"
      ]
    },
    {
      "cell_type": "code",
      "execution_count": 17,
      "metadata": {},
      "outputs": [
        {
          "data": {
            "text/plain": [
              "\"<sos> Il fait froid aujourd'hui, je suis un peu plus loin.<eos>\""
            ]
          },
          "execution_count": 17,
          "metadata": {},
          "output_type": "execute_result"
        }
      ],
      "source": [
        "sent = \"Il fait froid aujourd'hui\"\n",
        "infer_next_tokens(sent)"
      ]
    },
    {
      "cell_type": "code",
      "execution_count": 18,
      "metadata": {},
      "outputs": [
        {
          "data": {
            "text/plain": [
              "\"<sos> Hello Sir, c'est le cas de la vie de la famille des amis, c'est le cas de la famille des amis.<eos>\""
            ]
          },
          "execution_count": 18,
          "metadata": {},
          "output_type": "execute_result"
        }
      ],
      "source": [
        "sent = \"Hello Sir,\"\n",
        "infer_next_tokens(sent)"
      ]
    },
    {
      "cell_type": "markdown",
      "metadata": {
        "id": "Lp7mjVzomoZ3"
      },
      "source": [
        "### Supervised task"
      ]
    },
    {
      "cell_type": "code",
      "execution_count": 19,
      "metadata": {
        "id": "0K1BZsblmEmx"
      },
      "outputs": [
        {
          "name": "stdout",
          "output_type": "stream",
          "text": [
            "--2024-10-22 18:06:40--  https://raw.githubusercontent.com/moussaKam/transfer_learning_transformers/main/cls-books/train.review.spm\n",
            "Résolution de raw.githubusercontent.com (raw.githubusercontent.com)… 185.199.109.133, 185.199.111.133, 185.199.108.133, ...\n",
            "Connexion à raw.githubusercontent.com (raw.githubusercontent.com)|185.199.109.133|:443… connecté.\n",
            "requête HTTP transmise, en attente de la réponse… 200 OK\n",
            "Taille : 1495960 (1,4M) [text/plain]\n",
            "Sauvegarde en : « train.review.spm.1 »\n",
            "\n",
            "train.review.spm.1  100%[===================>]   1,43M  --.-KB/s    ds 0,09s   \n",
            "\n",
            "2024-10-22 18:06:40 (15,9 MB/s) — « train.review.spm.1 » sauvegardé [1495960/1495960]\n",
            "\n",
            "--2024-10-22 18:06:41--  https://raw.githubusercontent.com/moussaKam/transfer_learning_transformers/main/cls-books/train.label\n",
            "Résolution de raw.githubusercontent.com (raw.githubusercontent.com)… 185.199.109.133, 185.199.111.133, 185.199.108.133, ...\n",
            "Connexion à raw.githubusercontent.com (raw.githubusercontent.com)|185.199.109.133|:443… connecté.\n",
            "requête HTTP transmise, en attente de la réponse… 200 OK\n",
            "Taille : 3200 (3,1K) [text/plain]\n",
            "Sauvegarde en : « train.label.1 »\n",
            "\n",
            "train.label.1       100%[===================>]   3,12K  --.-KB/s    ds 0s      \n",
            "\n",
            "2024-10-22 18:06:41 (24,4 MB/s) — « train.label.1 » sauvegardé [3200/3200]\n",
            "\n",
            "--2024-10-22 18:06:41--  https://raw.githubusercontent.com/moussaKam/transfer_learning_transformers/main/cls-books/test.review.spm\n",
            "Résolution de raw.githubusercontent.com (raw.githubusercontent.com)… 185.199.109.133, 185.199.111.133, 185.199.108.133, ...\n",
            "Connexion à raw.githubusercontent.com (raw.githubusercontent.com)|185.199.109.133|:443… connecté.\n",
            "requête HTTP transmise, en attente de la réponse… 200 OK\n",
            "Taille : 1864544 (1,8M) [text/plain]\n",
            "Sauvegarde en : « test.review.spm.1 »\n",
            "\n",
            "test.review.spm.1   100%[===================>]   1,78M  --.-KB/s    ds 0,1s    \n",
            "\n",
            "2024-10-22 18:06:41 (15,6 MB/s) — « test.review.spm.1 » sauvegardé [1864544/1864544]\n",
            "\n",
            "--2024-10-22 18:06:42--  https://raw.githubusercontent.com/moussaKam/transfer_learning_transformers/main/cls-books/test.label\n",
            "Résolution de raw.githubusercontent.com (raw.githubusercontent.com)… 185.199.109.133, 185.199.111.133, 185.199.108.133, ...\n",
            "Connexion à raw.githubusercontent.com (raw.githubusercontent.com)|185.199.109.133|:443… connecté.\n",
            "requête HTTP transmise, en attente de la réponse… 200 OK\n",
            "Taille : 4000 (3,9K) [text/plain]\n",
            "Sauvegarde en : « test.label.1 »\n",
            "\n",
            "test.label.1        100%[===================>]   3,91K  --.-KB/s    ds 0s      \n",
            "\n",
            "2024-10-22 18:06:42 (36,7 MB/s) — « test.label.1 » sauvegardé [4000/4000]\n",
            "\n"
          ]
        }
      ],
      "source": [
        "!wget https://raw.githubusercontent.com/moussaKam/transfer_learning_transformers/main/cls-books/train.review.spm\n",
        "!wget https://raw.githubusercontent.com/moussaKam/transfer_learning_transformers/main/cls-books/train.label\n",
        "!wget https://raw.githubusercontent.com/moussaKam/transfer_learning_transformers/main/cls-books/test.review.spm\n",
        "!wget https://raw.githubusercontent.com/moussaKam/transfer_learning_transformers/main/cls-books/test.label\n",
        "\n",
        "path_data_train = \"train.review.spm\"\n",
        "path_labels_train = \"train.label\"\n",
        "\n",
        "path_data_valid = \"test.review.spm\"\n",
        "path_labels_valid = \"test.label\""
      ]
    },
    {
      "cell_type": "code",
      "execution_count": 20,
      "metadata": {
        "id": "_MLfvjiom2SL"
      },
      "outputs": [],
      "source": [
        "# a function to evaluate the validation accuracy of the model.\n",
        "def evaluate_accuracy(data_loader):\n",
        "    #to be implemented\n",
        "    model.eval()\n",
        "    total_loss = 0.0\n",
        "    ncorrect = ntotal = 0\n",
        "    with torch.no_grad():\n",
        "        for idx, data in enumerate(data_loader):\n",
        "            # inference \n",
        "            src_mask = model.base.generate_square_subsequent_mask(data[0].size(0)).to(device)\n",
        "            output = model(data[0].to(device), src_mask)[-1] \n",
        "            # total number of examples\n",
        "            ntotal +=  output.shape[0]\n",
        "            # number of correct predictions \n",
        "            predictions = torch.argmax(output, axis=1)\n",
        "            ncorrect += torch.sum(data[1].to(device) == predictions)\n",
        "        acc = ncorrect.item() / ntotal\n",
        "        return acc"
      ]
    },
    {
      "cell_type": "code",
      "execution_count": 21,
      "metadata": {
        "id": "qzmx7T7xoa6v"
      },
      "outputs": [],
      "source": [
        "#save the base model to be loaded later in the fine-tuning phase\n",
        "torch.save({\"model_state_dict\": model.base.state_dict(),}, \"pretrained_model_4layers_no_class_head.pt\")"
      ]
    },
    {
      "cell_type": "code",
      "execution_count": 22,
      "metadata": {
        "id": "i-xclMCpnVpw"
      },
      "outputs": [
        {
          "name": "stdout",
          "output_type": "stream",
          "text": [
            "=====Trainig FROM SCRATCH======\n",
            "| epoch   1 |    50/  200 steps | loss 0.75527 | ppl    2.128\n",
            "| epoch   1 |   100/  200 steps | loss 0.71986 | ppl    2.054\n",
            "| epoch   1 |   150/  200 steps | loss 0.72094 | ppl    2.056\n",
            "| epoch   2 |    50/  200 steps | loss 0.71128 | ppl    2.037\n",
            "| epoch   2 |   100/  200 steps | loss 0.65528 | ppl    1.926\n",
            "| epoch   2 |   150/  200 steps | loss 0.73135 | ppl    2.078\n",
            "| epoch   3 |    50/  200 steps | loss 0.59190 | ppl    1.807\n",
            "| epoch   3 |   100/  200 steps | loss 0.69980 | ppl    2.013\n",
            "| epoch   3 |   150/  200 steps | loss 0.44783 | ppl    1.565\n",
            "| epoch   4 |    50/  200 steps | loss 0.29308 | ppl    1.341\n",
            "| epoch   4 |   100/  200 steps | loss 0.18432 | ppl    1.202\n",
            "| epoch   4 |   150/  200 steps | loss 0.34692 | ppl    1.415\n",
            "| epoch   5 |    50/  200 steps | loss 0.08972 | ppl    1.094\n",
            "| epoch   5 |   100/  200 steps | loss 0.08162 | ppl    1.085\n",
            "| epoch   5 |   150/  200 steps | loss 0.07841 | ppl    1.082\n",
            "| epoch   6 |    50/  200 steps | loss 0.05639 | ppl    1.058\n",
            "| epoch   6 |   100/  200 steps | loss 0.09831 | ppl    1.103\n",
            "| epoch   6 |   150/  200 steps | loss 0.05829 | ppl    1.060\n",
            "| epoch   7 |    50/  200 steps | loss 0.04967 | ppl    1.051\n",
            "| epoch   7 |   100/  200 steps | loss 0.00099 | ppl    1.001\n",
            "| epoch   7 |   150/  200 steps | loss 0.01861 | ppl    1.019\n",
            "| epoch   8 |    50/  200 steps | loss 0.03857 | ppl    1.039\n",
            "| epoch   8 |   100/  200 steps | loss 0.01732 | ppl    1.017\n",
            "| epoch   8 |   150/  200 steps | loss 0.05349 | ppl    1.055\n",
            "| epoch   9 |    50/  200 steps | loss 0.01934 | ppl    1.020\n",
            "| epoch   9 |   100/  200 steps | loss 0.00009 | ppl    1.000\n",
            "| epoch   9 |   150/  200 steps | loss 0.00795 | ppl    1.008\n",
            "| epoch  10 |    50/  200 steps | loss 0.00021 | ppl    1.000\n",
            "| epoch  10 |   100/  200 steps | loss 0.03427 | ppl    1.035\n",
            "| epoch  10 |   150/  200 steps | loss 0.01273 | ppl    1.013\n",
            "| epoch  11 |    50/  200 steps | loss 0.00003 | ppl    1.000\n",
            "| epoch  11 |   100/  200 steps | loss 0.00003 | ppl    1.000\n",
            "| epoch  11 |   150/  200 steps | loss 0.00161 | ppl    1.002\n",
            "| epoch  12 |    50/  200 steps | loss 0.03465 | ppl    1.035\n",
            "| epoch  12 |   100/  200 steps | loss 0.00279 | ppl    1.003\n",
            "| epoch  12 |   150/  200 steps | loss 0.00475 | ppl    1.005\n",
            "| epoch  13 |    50/  200 steps | loss 0.00002 | ppl    1.000\n",
            "| epoch  13 |   100/  200 steps | loss 0.00001 | ppl    1.000\n",
            "| epoch  13 |   150/  200 steps | loss 0.00002 | ppl    1.000\n",
            "| epoch  14 |    50/  200 steps | loss 0.01956 | ppl    1.020\n",
            "| epoch  14 |   100/  200 steps | loss 0.00002 | ppl    1.000\n",
            "| epoch  14 |   150/  200 steps | loss 0.00005 | ppl    1.000\n",
            "| epoch  15 |    50/  200 steps | loss 0.00001 | ppl    1.000\n",
            "| epoch  15 |   100/  200 steps | loss 0.00001 | ppl    1.000\n",
            "| epoch  15 |   150/  200 steps | loss 0.00002 | ppl    1.000\n",
            "=====PRETRAINED MODEL======\n"
          ]
        },
        {
          "name": "stderr",
          "output_type": "stream",
          "text": [
            "/var/folders/cg/ltgc1bw91_q800mfcy5vfvkw0000gn/T/ipykernel_81290/1374578445.py:14: FutureWarning: You are using `torch.load` with `weights_only=False` (the current default value), which uses the default pickle module implicitly. It is possible to construct malicious pickle data which will execute arbitrary code during unpickling (See https://github.com/pytorch/pytorch/blob/main/SECURITY.md#untrusted-models for more details). In a future release, the default value for `weights_only` will be flipped to `True`. This limits the functions that could be executed during unpickling. Arbitrary objects will no longer be allowed to be loaded via this mode unless they are explicitly allowlisted by the user via `torch.serialization.add_safe_globals`. We recommend you start setting `weights_only=True` for any use case where you don't have full control of the loaded file. Please open an issue on GitHub for any issues related to this experimental feature.\n",
            "  checkpoint = torch.load(\"pretrained_model_4layers_no_class_head.pt\")\n"
          ]
        },
        {
          "name": "stdout",
          "output_type": "stream",
          "text": [
            "| epoch   1 |    50/  200 steps | loss 0.78563 | ppl    2.194\n",
            "| epoch   1 |   100/  200 steps | loss 0.69117 | ppl    1.996\n",
            "| epoch   1 |   150/  200 steps | loss 0.63406 | ppl    1.885\n",
            "| epoch   2 |    50/  200 steps | loss 0.54268 | ppl    1.721\n",
            "| epoch   2 |   100/  200 steps | loss 0.51420 | ppl    1.672\n",
            "| epoch   2 |   150/  200 steps | loss 0.49309 | ppl    1.637\n",
            "| epoch   3 |    50/  200 steps | loss 0.40725 | ppl    1.503\n",
            "| epoch   3 |   100/  200 steps | loss 0.37177 | ppl    1.450\n",
            "| epoch   3 |   150/  200 steps | loss 0.50461 | ppl    1.656\n",
            "| epoch   4 |    50/  200 steps | loss 0.30493 | ppl    1.357\n",
            "| epoch   4 |   100/  200 steps | loss 0.37235 | ppl    1.451\n",
            "| epoch   4 |   150/  200 steps | loss 0.37010 | ppl    1.448\n",
            "| epoch   5 |    50/  200 steps | loss 0.30248 | ppl    1.353\n",
            "| epoch   5 |   100/  200 steps | loss 0.34530 | ppl    1.412\n",
            "| epoch   5 |   150/  200 steps | loss 0.31502 | ppl    1.370\n",
            "| epoch   6 |    50/  200 steps | loss 0.30759 | ppl    1.360\n",
            "| epoch   6 |   100/  200 steps | loss 0.28439 | ppl    1.329\n",
            "| epoch   6 |   150/  200 steps | loss 0.19309 | ppl    1.213\n",
            "| epoch   7 |    50/  200 steps | loss 0.11943 | ppl    1.127\n",
            "| epoch   7 |   100/  200 steps | loss 0.13230 | ppl    1.141\n",
            "| epoch   7 |   150/  200 steps | loss 0.25967 | ppl    1.297\n",
            "| epoch   8 |    50/  200 steps | loss 0.14255 | ppl    1.153\n",
            "| epoch   8 |   100/  200 steps | loss 0.13954 | ppl    1.150\n",
            "| epoch   8 |   150/  200 steps | loss 0.15386 | ppl    1.166\n",
            "| epoch   9 |    50/  200 steps | loss 0.09870 | ppl    1.104\n",
            "| epoch   9 |   100/  200 steps | loss 0.12164 | ppl    1.129\n",
            "| epoch   9 |   150/  200 steps | loss 0.08976 | ppl    1.094\n",
            "| epoch  10 |    50/  200 steps | loss 0.04566 | ppl    1.047\n",
            "| epoch  10 |   100/  200 steps | loss 0.09035 | ppl    1.095\n",
            "| epoch  10 |   150/  200 steps | loss 0.06870 | ppl    1.071\n",
            "| epoch  11 |    50/  200 steps | loss 0.06381 | ppl    1.066\n",
            "| epoch  11 |   100/  200 steps | loss 0.04315 | ppl    1.044\n",
            "| epoch  11 |   150/  200 steps | loss 0.01052 | ppl    1.011\n",
            "| epoch  12 |    50/  200 steps | loss 0.07127 | ppl    1.074\n",
            "| epoch  12 |   100/  200 steps | loss 0.04499 | ppl    1.046\n",
            "| epoch  12 |   150/  200 steps | loss 0.10484 | ppl    1.111\n",
            "| epoch  13 |    50/  200 steps | loss 0.08635 | ppl    1.090\n",
            "| epoch  13 |   100/  200 steps | loss 0.01283 | ppl    1.013\n",
            "| epoch  13 |   150/  200 steps | loss 0.03824 | ppl    1.039\n",
            "| epoch  14 |    50/  200 steps | loss 0.02196 | ppl    1.022\n",
            "| epoch  14 |   100/  200 steps | loss 0.01241 | ppl    1.012\n",
            "| epoch  14 |   150/  200 steps | loss 0.01815 | ppl    1.018\n",
            "| epoch  15 |    50/  200 steps | loss 0.01155 | ppl    1.012\n",
            "| epoch  15 |   100/  200 steps | loss 0.03859 | ppl    1.039\n",
            "| epoch  15 |   150/  200 steps | loss 0.04646 | ppl    1.048\n"
          ]
        }
      ],
      "source": [
        "from_scratch_settings = [True, False]\n",
        "\n",
        "from_scratch_valid_acc = []\n",
        "pretrained_valid_acc = []\n",
        "lr = 0.0001\n",
        "\n",
        "for from_scratch in from_scratch_settings:\n",
        "    model = Model(ntokens, nhead, nhid, nlayers, 2, dropout).to(device)\n",
        "    criterion = nn.CrossEntropyLoss()\n",
        "    optimizer = torch.optim.Adam(model.parameters(), lr=lr)\n",
        "    if not from_scratch:\n",
        "        print(\"=====PRETRAINED MODEL======\")\n",
        "        #load checkpoint\n",
        "        checkpoint = torch.load(\"pretrained_model_4layers_no_class_head.pt\")\n",
        "        #load state dict\n",
        "        model.base.load_state_dict(checkpoint['model_state_dict'])\n",
        "    else:\n",
        "        print(\"=====Trainig FROM SCRATCH======\")\n",
        "    epochs = 15\n",
        "    for epoch in range(1, epochs + 1):\n",
        "        train(\n",
        "            path_data_train,\n",
        "            path_labels_train,\n",
        "            save_interval=-1,\n",
        "            task='classification',\n",
        "            batch_size=8,\n",
        "            log_interval=50,\n",
        "        )\n",
        "        acc = evaluate_accuracy(\n",
        "            get_loader(\n",
        "                path_data_valid,\n",
        "                path_labels_valid,\n",
        "                token2ind=token2ind,\n",
        "                batch_size=20,\n",
        "                task='classification',\n",
        "            )\n",
        "        )\n",
        "        if from_scratch:\n",
        "            from_scratch_valid_acc.append(acc)\n",
        "        else:\n",
        "            pretrained_valid_acc.append(acc)\n"
      ]
    },
    {
      "cell_type": "code",
      "execution_count": 25,
      "metadata": {
        "id": "RCpBIdTHojm6"
      },
      "outputs": [
        {
          "data": {
            "image/png": "[encoded data removed]",
            "text/plain": [
              "<Figure size 1200x400 with 1 Axes>"
            ]
          },
          "metadata": {},
          "output_type": "display_data"
        }
      ],
      "source": [
        "#Visualize the accuracy\n",
        "fig, ax = plt.subplots(1,1, figsize=(12,4))\n",
        "ax.plot(pretrained_valid_acc, label=\"Pre-trained model\")\n",
        "ax.plot(from_scratch_valid_acc, label = 'Model from scratch')\n",
        "ax.set_ylabel('Accuracies')\n",
        "ax.set_xlabel('Epoch #')\n",
        "ax.grid()\n",
        "ax.legend(fontsize=17)\n",
        "ax.set_title('Evolution of the accuracies of both models through epochs')\n",
        "plt.show()"
      ]
    },
    {
      "cell_type": "code",
      "execution_count": null,
      "metadata": {},
      "outputs": [],
      "source": []
    }
  ],
  "metadata": {
    "accelerator": "GPU",
    "colab": {
      "provenance": []
    },
    "kernelspec": {
      "display_name": "Python 3.6.15 ('altegrad')",
      "language": "python",
      "name": "python3"
    },
    "language_info": {
      "codemirror_mode": {
        "name": "ipython",
        "version": 3
      },
      "file_extension": ".py",
      "mimetype": "text/x-python",
      "name": "python",
      "nbconvert_exporter": "python",
      "pygments_lexer": "ipython3",
      "version": "3.11.2"
    },
    "vscode": {
      "interpreter": {
        "hash": "1f3cfdeab8dd8f9900bd16266619de191cf0f5e09365d74b1fba1714dce58066"
      }
    }
  },
  "nbformat": 4,
  "nbformat_minor": 0
}
